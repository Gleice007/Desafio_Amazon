{
 "cells": [
  {
   "cell_type": "code",
   "execution_count": 31,
   "id": "ad832e2e-5849-4181-b8e7-3d4a224ac19f",
   "metadata": {},
   "outputs": [],
   "source": [
    "from selenium import webdriver\n",
    "from selenium.webdriver.chrome.service import Service\n",
    "from webdriver_manager.chrome import ChromeDriverManager\n",
    "from selenium.webdriver.common.by import By\n",
    "import pandas as pd\n",
    "import time\n",
    "\n",
    "servico = Service(ChromeDriverManager().install())\n",
    "navegador = webdriver.Chrome(service=servico)\n",
    "\n",
    "navegador.get('https://www.amazon.com.br/')"
   ]
  },
  {
   "cell_type": "code",
   "execution_count": 33,
   "id": "e477e146-4c9b-4f92-b782-d820b76ef045",
   "metadata": {},
   "outputs": [],
   "source": [
    "produtos = ['celular', 'computador', 'fone', 'carregador', 'som', 'video game', 'xbox', 'tv', 'alexa', 'relogio']"
   ]
  },
  {
   "cell_type": "code",
   "execution_count": 37,
   "id": "c1734f78-12a1-46a6-a571-e45e907f0927",
   "metadata": {},
   "outputs": [],
   "source": [
    "for i in produtos:\n",
    "    campo_produto1 = navegador.find_element(By.XPATH, '//*[@id=\"twotabsearchtextbox\"]').send_keys(i)\n",
    "    campo_produto1 = navegador.find_element(By.ID, 'nav-search-submit-button').click()\n",
    "    time.sleep(4.0)\n",
    "\n",
    "    campo_produto1 = navegador.save_screenshot(f'{i}.png')\n",
    "    campo_produto1 = navegador.find_element(By.XPATH, '//*[@id=\"twotabsearchtextbox\"]').clear()\n",
    "    \n"
   ]
  }
 ],
 "metadata": {
  "kernelspec": {
   "display_name": "Python 3 (ipykernel)",
   "language": "python",
   "name": "python3"
  },
  "language_info": {
   "codemirror_mode": {
    "name": "ipython",
    "version": 3
   },
   "file_extension": ".py",
   "mimetype": "text/x-python",
   "name": "python",
   "nbconvert_exporter": "python",
   "pygments_lexer": "ipython3",
   "version": "3.12.4"
  }
 },
 "nbformat": 4,
 "nbformat_minor": 5
}
